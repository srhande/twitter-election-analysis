{
 "cells": [
  {
   "cell_type": "markdown",
   "metadata": {},
   "source": [
    "## How do we even begin to classify sentiments of sentences?\n",
    "Our project requires us to analyze the sentiments of tweets, which (obviously) consist of sentences and words. Sentences, of course, can come in numerous variations, and can also be considered unstructured due to this inconsistency between sentences. \n",
    "\n",
    "However, machine learning techniques that we use structured data in order to properly train models. So, how do we do train models on sentences?\n",
    "\n",
    "In the domain of Natural Language Processing (NLP), there are several techniques of **feature extraction**, or ways in which to structure text.\n",
    "TODO: Go more into feature extraction\n",
    "\n",
    "For the purposes of this project, we will be looking at three of such techniques: **Bag-of-Words**, **Term Frequency-Inverse Document Frequency**, and **Word2Vec**.\n",
    "\n",
    "## What is Bag-of-Words?\n"
   ]
  }
 ],
 "metadata": {
  "kernelspec": {
   "display_name": "Python 3",
   "language": "python",
   "name": "python3"
  },
  "language_info": {
   "codemirror_mode": {
    "name": "ipython",
    "version": 3
   },
   "file_extension": ".py",
   "mimetype": "text/x-python",
   "name": "python",
   "nbconvert_exporter": "python",
   "pygments_lexer": "ipython3",
   "version": "3.7.3"
  }
 },
 "nbformat": 4,
 "nbformat_minor": 2
}
